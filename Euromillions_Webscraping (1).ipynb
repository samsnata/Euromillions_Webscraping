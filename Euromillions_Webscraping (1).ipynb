{
  "nbformat": 4,
  "nbformat_minor": 0,
  "metadata": {
    "colab": {
      "provenance": []
    },
    "kernelspec": {
      "name": "python3",
      "display_name": "Python 3"
    },
    "language_info": {
      "name": "python"
    }
  },
  "cells": [
    {
      "cell_type": "code",
      "source": [
        "import requests\n",
        "from bs4 import BeautifulSoup\n",
        "import pandas as pd\n",
        "\n",
        "# Base URL for EuroMillions draw history\n",
        "url = \"https://www.beatlottery.co.uk/euromillions/draw-history\"\n",
        "\n",
        "# List to hold all draws data\n",
        "draws_data = []\n",
        "\n",
        "# Function to extract draw data\n",
        "def extract_draw_data():\n",
        "    print(\"Extracting draws from the EuroMillions draw history page...\")\n",
        "    response = requests.get(url)\n",
        "\n",
        "    if response.status_code == 200:\n",
        "        soup = BeautifulSoup(response.content, \"html.parser\")\n",
        "\n",
        "        # Locate the table containing the draw history\n",
        "        table = soup.find('table')\n",
        "\n",
        "        if table:\n",
        "            rows = table.find_all('tr')[1:]  # Skip header row\n",
        "            print(f\"Found {len(rows)} rows in the table.\")  # Debug: Print number of rows\n",
        "\n",
        "            for row in rows:\n",
        "                cells = row.find_all('td')\n",
        "                if len(cells) >= 5:  # Ensure there are enough cells\n",
        "                    draw_date = cells[0].get_text(strip=True)  # Extracting Draw Date\n",
        "                    balls_raw = cells[2].get_text(strip=True) + \" \" + cells[3].get_text(strip=True)  # Main and Lucky Numbers\n",
        "\n",
        "                    # Split main balls and lucky stars\n",
        "                    main_balls = balls_raw.split(\"LUCKY STARS\")[0].strip()\n",
        "                    lucky_stars = balls_raw.split(\"LUCKY STARS\")[1].strip() if \"LUCKY STARS\" in balls_raw else \"\"\n",
        "\n",
        "                    # Format main balls and lucky stars with commas\n",
        "                    main_balls_formatted = \", \".join(main_balls[i:i + 2] for i in range(0, len(main_balls), 2))\n",
        "                    lucky_stars_formatted = \", \".join(lucky_stars[i:i + 2] for i in range(0, len(lucky_stars), 2))\n",
        "\n",
        "                    # Append the data as a dictionary\n",
        "                    draws_data.append({\n",
        "                        'Draw Date': draw_date,\n",
        "                        'Main Balls': main_balls_formatted,\n",
        "                        'Lucky Stars': lucky_stars_formatted\n",
        "                    })\n",
        "                else:\n",
        "                    print(\"Row does not have enough cells:\", cells)  # Debug: Print row content\n",
        "        else:\n",
        "            print(\"No table found on the page.\")\n",
        "    else:\n",
        "        print(f\"Failed to retrieve data: {response.status_code}\")\n",
        "\n",
        "# Extract data\n",
        "extract_draw_data()\n",
        "\n",
        "# Create a DataFrame from the collected data\n",
        "df = pd.DataFrame(draws_data)\n",
        "\n",
        "# Save to CSV (optional)\n",
        "df.to_csv('euromillions_draws_beatlottery.csv', index=False)\n",
        "\n",
        "# Display the first few rows of the DataFrame\n",
        "print(df.head())"
      ],
      "metadata": {
        "colab": {
          "base_uri": "https://localhost:8080/"
        },
        "id": "ERx1vw_UL-ZL",
        "outputId": "2228bcdd-8bbd-4416-8f11-10750319b5ea"
      },
      "execution_count": 37,
      "outputs": [
        {
          "output_type": "stream",
          "name": "stdout",
          "text": [
            "Extracting draws from the EuroMillions draw history page...\n",
            "Found 52 rows in the table.\n",
            "     Draw Date                  Main Balls Lucky Stars\n",
            "0  01 Nov 2024  Fr, i , 07, 33, 38, 44, 50      02, 07\n",
            "1  29 Oct 2024  Tu, e , 01, 02, 19, 30, 45      10, 12\n",
            "2  25 Oct 2024  Fr, i , 04, 17, 20, 25, 45      08, 09\n",
            "3  22 Oct 2024  Tu, e , 03, 13, 27, 30, 46      01, 02\n",
            "4  18 Oct 2024  Fr, i , 04, 15, 23, 30, 39      01, 12\n"
          ]
        }
      ]
    },
    {
      "cell_type": "code",
      "source": [],
      "metadata": {
        "id": "L7dKoKsQMn8t"
      },
      "execution_count": null,
      "outputs": []
    }
  ]
}